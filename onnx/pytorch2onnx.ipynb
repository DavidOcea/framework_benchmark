{
 "cells": [
  {
   "cell_type": "markdown",
   "metadata": {},
   "source": [
    "# pytorch -> ONNX"
   ]
  },
  {
   "cell_type": "code",
   "execution_count": 1,
   "metadata": {},
   "outputs": [
    {
     "name": "stdout",
     "output_type": "stream",
     "text": [
      "1.0.1\n"
     ]
    },
    {
     "data": {
      "text/plain": [
       "<torch._C.Generator at 0x7f2f92b24cd0>"
      ]
     },
     "execution_count": 1,
     "metadata": {},
     "output_type": "execute_result"
    }
   ],
   "source": [
    "import torch\n",
    "from torch import nn\n",
    "#import torch.onnx\n",
    "import torchvision\n",
    "import torch.nn.functional as F\n",
    "print(torch.__version__)\n",
    "from matplotlib import pyplot as plt\n",
    "\n",
    "torch.manual_seed(1)"
   ]
  },
  {
   "cell_type": "code",
   "execution_count": 2,
   "metadata": {},
   "outputs": [
    {
     "data": {
      "text/plain": [
       "[<matplotlib.lines.Line2D at 0x7f2f30ccb7b8>]"
      ]
     },
     "execution_count": 2,
     "metadata": {},
     "output_type": "execute_result"
    },
    {
     "data": {
      "image/png": "[encoded data removed]",
      "text/plain": [
       "<Figure size 432x288 with 1 Axes>"
      ]
     },
     "metadata": {
      "needs_background": "light"
     },
     "output_type": "display_data"
    }
   ],
   "source": [
    "X = torch.linspace(-1.1, 2.5, 10000)\n",
    "Y = (X - 1) * (X + 1) * (X - 2)\n",
    "noise = torch.randn(X.size()) / 25\n",
    "Y = Y + noise\n",
    "# Reshape for training\n",
    "X = torch.reshape(X, (-1,1))\n",
    "Y = torch.reshape(Y, (-1,1))\n",
    "# plot the function\n",
    "plt.plot(X.cpu().numpy(),Y.cpu().numpy(), '*')"
   ]
  },
  {
   "cell_type": "code",
   "execution_count": 3,
   "metadata": {},
   "outputs": [],
   "source": [
    "class LinearRegressionModel(nn.Module):\n",
    "\n",
    "    def __init__(self, input_dim, output_dim):\n",
    "\n",
    "        super(LinearRegressionModel, self).__init__() \n",
    "        self.linear0 = nn.Linear(input_dim, 16)\n",
    "        self.linear1 = nn.Linear(16, 8)\n",
    "        self.linear2 = nn.Linear(8, 4)        \n",
    "        self.linear4 = nn.Linear(4, 1)\n",
    "        self.dropout = nn.Dropout(p=0.5)\n",
    "\n",
    "    def forward(self, x):\n",
    "        \n",
    "        x = torch.relu(self.linear0(x))\n",
    "        x = self.dropout(x)\n",
    "        x = torch.relu(self.linear1(x))\n",
    "        x = self.dropout(x)\n",
    "        x = torch.relu(self.linear2(x))\n",
    "        x = self.dropout(x)     \n",
    "        x = self.linear4(x)\n",
    "        return x"
   ]
  },
  {
   "cell_type": "code",
   "execution_count": 4,
   "metadata": {},
   "outputs": [
    {
     "name": "stdout",
     "output_type": "stream",
     "text": [
      "epoch 99, loss 0.6955614686012268\n"
     ]
    }
   ],
   "source": [
    "INPUT_DIM = 1\n",
    "OUTPUT_DIM = 1\n",
    "model = LinearRegressionModel(INPUT_DIM, OUTPUT_DIM)\n",
    "\n",
    "criterion = nn.MSELoss()\n",
    "l_rate = 0.01\n",
    "optimiser = torch.optim.Adam(model.parameters(), lr = l_rate) #Stochastic Gradient Descent\n",
    "\n",
    "epochs = 100\n",
    "\n",
    "for epoch in range(epochs):\n",
    "    # clear gradient\n",
    "    optimiser.zero_grad()\n",
    "    outputs = model.forward(X)\n",
    "    loss = criterion(outputs, Y)\n",
    "    loss.backward()\n",
    "    optimiser.step()\n",
    "    if epoch  == epochs - 1:\n",
    "        # Print the finish result\n",
    "        print('epoch {}, loss {}'.format(epoch,loss.data.item()))"
   ]
  },
  {
   "cell_type": "code",
   "execution_count": 5,
   "metadata": {},
   "outputs": [
    {
     "data": {
      "text/plain": [
       "[<matplotlib.lines.Line2D at 0x7f2f30c37c88>]"
      ]
     },
     "execution_count": 5,
     "metadata": {},
     "output_type": "execute_result"
    },
    {
     "data": {
      "image/png": "[encoded data removed]",
      "text/plain": [
       "<Figure size 432x288 with 1 Axes>"
      ]
     },
     "metadata": {
      "needs_background": "light"
     },
     "output_type": "display_data"
    }
   ],
   "source": [
    "model.eval()\n",
    "X_t = torch.linspace(-1.1, 2.5, 2000)\n",
    "X_t = torch.reshape(X_t, (-1,1))\n",
    "Y_t = model(X_t)\n",
    "X_t = X_t.detach().cpu().numpy()\n",
    "Y_t = Y_t.detach().cpu().numpy()\n",
    "plt.plot(X_t,Y_t)\n",
    "plt.plot(X.cpu().numpy(),Y.cpu().numpy(), '*')"
   ]
  },
  {
   "cell_type": "code",
   "execution_count": 6,
   "metadata": {},
   "outputs": [
    {
     "data": {
      "text/plain": [
       "209"
      ]
     },
     "execution_count": 6,
     "metadata": {},
     "output_type": "execute_result"
    }
   ],
   "source": [
    "sum([ p.numel() for p in model.parameters()])"
   ]
  },
  {
   "cell_type": "code",
   "execution_count": 7,
   "metadata": {},
   "outputs": [
    {
     "name": "stdout",
     "output_type": "stream",
     "text": [
      "graph(%input_names : Float(1)\n",
      "      %1 : Float(16, 1)\n",
      "      %2 : Float(16)\n",
      "      %3 : Float(8, 16)\n",
      "      %4 : Float(8)\n",
      "      %5 : Float(4, 8)\n",
      "      %6 : Float(4)\n",
      "      %7 : Float(1, 4)\n",
      "      %8 : Float(1)) {\n",
      "  %9 : Float(1!, 16) = onnx::Transpose[perm=[1, 0]](%1), scope: LinearRegressionModel/Linear[linear0]\n",
      "  %10 : Float(16) = onnx::MatMul(%input_names, %9), scope: LinearRegressionModel/Linear[linear0]\n",
      "  %11 : Float(16) = onnx::Add(%10, %2), scope: LinearRegressionModel/Linear[linear0]\n",
      "  %12 : Float(16) = onnx::Relu(%11), scope: LinearRegressionModel\n",
      "  %13 : Float(16), %14 : Tensor = onnx::Dropout[ratio=0.5](%12), scope: LinearRegressionModel/Dropout[dropout]\n",
      "  %15 : Float(16!, 8!) = onnx::Transpose[perm=[1, 0]](%3), scope: LinearRegressionModel/Linear[linear1]\n",
      "  %16 : Float(8) = onnx::MatMul(%13, %15), scope: LinearRegressionModel/Linear[linear1]\n",
      "  %17 : Float(8) = onnx::Add(%16, %4), scope: LinearRegressionModel/Linear[linear1]\n",
      "  %18 : Float(8) = onnx::Relu(%17), scope: LinearRegressionModel\n",
      "  %19 : Float(8), %20 : Tensor = onnx::Dropout[ratio=0.5](%18), scope: LinearRegressionModel/Dropout[dropout]\n",
      "  %21 : Float(8!, 4!) = onnx::Transpose[perm=[1, 0]](%5), scope: LinearRegressionModel/Linear[linear2]\n",
      "  %22 : Float(4) = onnx::MatMul(%19, %21), scope: LinearRegressionModel/Linear[linear2]\n",
      "  %23 : Float(4) = onnx::Add(%22, %6), scope: LinearRegressionModel/Linear[linear2]\n",
      "  %24 : Float(4) = onnx::Relu(%23), scope: LinearRegressionModel\n",
      "  %25 : Float(4), %26 : Tensor = onnx::Dropout[ratio=0.5](%24), scope: LinearRegressionModel/Dropout[dropout]\n",
      "  %27 : Float(4!, 1!) = onnx::Transpose[perm=[1, 0]](%7), scope: LinearRegressionModel/Linear[linear4]\n",
      "  %28 : Float(1) = onnx::MatMul(%25, %27), scope: LinearRegressionModel/Linear[linear4]\n",
      "  %output_names : Float(1) = onnx::Add(%28, %8), scope: LinearRegressionModel/Linear[linear4]\n",
      "  return (%output_names);\n",
      "}\n",
      "\n"
     ]
    }
   ],
   "source": [
    "dummy_input = torch.tensor([1], dtype=torch.float32)\n",
    "torch.onnx.export(model, dummy_input, \"model.onnx\", verbose=True, input_names=['input_names'], output_names=['output_names'])"
   ]
  },
  {
   "cell_type": "code",
   "execution_count": null,
   "metadata": {},
   "outputs": [],
   "source": []
  }
 ],
 "metadata": {
  "kernelspec": {
   "display_name": "Python 3",
   "language": "python",
   "name": "python3"
  },
  "language_info": {
   "codemirror_mode": {
    "name": "ipython",
    "version": 3
   },
   "file_extension": ".py",
   "mimetype": "text/x-python",
   "name": "python",
   "nbconvert_exporter": "python",
   "pygments_lexer": "ipython3",
   "version": "3.6.8"
  }
 },
 "nbformat": 4,
 "nbformat_minor": 2
}
